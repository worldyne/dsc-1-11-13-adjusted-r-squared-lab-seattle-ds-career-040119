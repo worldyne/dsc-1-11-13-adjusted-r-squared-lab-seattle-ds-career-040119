{
 "cells": [
  {
   "cell_type": "markdown",
   "metadata": {},
   "source": [
    "## Model Fit in Linear Regression - Lab"
   ]
  },
  {
   "cell_type": "markdown",
   "metadata": {},
   "source": [
    "## Introduction\n",
    "In this lab, you'll learn how to evaluate your model results, and you'll learn methods to select the appropriate features using stepwise selection."
   ]
  },
  {
   "cell_type": "markdown",
   "metadata": {},
   "source": [
    "## Objectives\n",
    "You will be able to:\n",
    "* Analyze the results of regression and R-squared and adjusted-R-squared \n",
    "* Understand and apply forward and backward predictor selection"
   ]
  },
  {
   "cell_type": "markdown",
   "metadata": {},
   "source": [
    "## The Boston Housing Data once more"
   ]
  },
  {
   "cell_type": "markdown",
   "metadata": {},
   "source": [
    "We pre-processed the Boston Housing Data the same way we did before:\n",
    "\n",
    "- We dropped \"ZN\" and \"NOX\" completely\n",
    "- We categorized \"RAD\" in 3 bins and \"TAX\" in 4 bins\n",
    "- We used min-max-scaling on \"B\", \"CRIM\" and \"DIS\" (and logtransformed all of them first, except \"B\")\n",
    "- We used standardization on \"AGE\", \"INDUS\", \"LSTAT\" and \"PTRATIO\" (and logtransformed all of them first, except for \"AGE\") "
   ]
  },
  {
   "cell_type": "code",
   "execution_count": 1,
   "metadata": {},
   "outputs": [],
   "source": [
    "import pandas as pd\n",
    "import numpy as np\n",
    "from sklearn.datasets import load_boston\n",
    "boston = load_boston()\n",
    "\n",
    "boston_features = pd.DataFrame(boston.data, columns = boston.feature_names)\n",
    "boston_features = boston_features.drop([\"NOX\",\"ZN\"],axis=1)\n",
    "\n",
    "# first, create bins for based on the values observed. 3 values will result in 2 bins\n",
    "bins = [0,6,  24]\n",
    "bins_rad = pd.cut(boston_features['RAD'], bins)\n",
    "bins_rad = bins_rad.cat.as_unordered()\n",
    "\n",
    "# first, create bins for based on the values observed. 4 values will result in 3 bins\n",
    "bins = [0, 270, 360, 712]\n",
    "bins_tax = pd.cut(boston_features['TAX'], bins)\n",
    "bins_tax = bins_tax.cat.as_unordered()\n",
    "\n",
    "tax_dummy = pd.get_dummies(bins_tax, prefix=\"TAX\")\n",
    "rad_dummy = pd.get_dummies(bins_rad, prefix=\"RAD\")\n",
    "boston_features = boston_features.drop([\"RAD\",\"TAX\"], axis=1)\n",
    "boston_features = pd.concat([boston_features, rad_dummy, tax_dummy], axis=1)\n",
    "\n",
    "age = boston_features[\"AGE\"]\n",
    "b = boston_features[\"B\"]\n",
    "logcrim = np.log(boston_features[\"CRIM\"])\n",
    "logdis = np.log(boston_features[\"DIS\"])\n",
    "logindus = np.log(boston_features[\"INDUS\"])\n",
    "loglstat = np.log(boston_features[\"LSTAT\"])\n",
    "logptratio = np.log(boston_features[\"PTRATIO\"])\n",
    "\n",
    "# minmax scaling\n",
    "boston_features[\"B\"] = (b-min(b))/(max(b)-min(b))\n",
    "boston_features[\"CRIM\"] = (logcrim-min(logcrim))/(max(logcrim)-min(logcrim))\n",
    "boston_features[\"DIS\"] = (logdis-min(logdis))/(max(logdis)-min(logdis))\n",
    "\n",
    "#standardization\n",
    "boston_features[\"AGE\"] = (age-np.mean(age))/np.sqrt(np.var(age))\n",
    "boston_features[\"INDUS\"] = (logindus-np.mean(logindus))/np.sqrt(np.var(logindus))\n",
    "boston_features[\"LSTAT\"] = (loglstat-np.mean(loglstat))/np.sqrt(np.var(loglstat))\n",
    "boston_features[\"PTRATIO\"] = (logptratio-np.mean(logptratio))/(np.sqrt(np.var(logptratio)))"
   ]
  },
  {
   "cell_type": "markdown",
   "metadata": {},
   "source": [
    "## Perform stepwise selection"
   ]
  },
  {
   "cell_type": "markdown",
   "metadata": {},
   "source": [
    "The code for stepwise selection is copied below."
   ]
  },
  {
   "cell_type": "code",
   "execution_count": 2,
   "metadata": {},
   "outputs": [],
   "source": [
    "import statsmodels.api as sm\n",
    "\n",
    "def stepwise_selection(X, y, \n",
    "                       initial_list=[], \n",
    "                       threshold_in=0.01, \n",
    "                       threshold_out = 0.05, \n",
    "                       verbose=True):\n",
    "    \"\"\" Perform a forward-backward feature selection \n",
    "    based on p-value from statsmodels.api.OLS\n",
    "    Arguments:\n",
    "        X - pandas.DataFrame with candidate features\n",
    "        y - list-like with the target\n",
    "        initial_list - list of features to start with (column names of X)\n",
    "        threshold_in - include a feature if its p-value < threshold_in\n",
    "        threshold_out - exclude a feature if its p-value > threshold_out\n",
    "        verbose - whether to print the sequence of inclusions and exclusions\n",
    "    Returns: list of selected features \n",
    "    Always set threshold_in < threshold_out to avoid infinite looping.\n",
    "    See https://en.wikipedia.org/wiki/Stepwise_regression for the details\n",
    "    \"\"\"\n",
    "    included = list(initial_list)\n",
    "    while True:\n",
    "        changed=False\n",
    "        # forward step\n",
    "        excluded = list(set(X.columns)-set(included))\n",
    "        new_pval = pd.Series(index=excluded)\n",
    "        for new_column in excluded:\n",
    "            model = sm.OLS(y, sm.add_constant(pd.DataFrame(X[included+[new_column]]))).fit()\n",
    "            new_pval[new_column] = model.pvalues[new_column]\n",
    "        best_pval = new_pval.min()\n",
    "        if best_pval < threshold_in:\n",
    "            best_feature = new_pval.idxmin()\n",
    "            included.append(best_feature)\n",
    "            changed=True\n",
    "            if verbose:\n",
    "                print('Add  {:30} with p-value {:.6}'.format(best_feature, best_pval))\n",
    "\n",
    "        # backward step\n",
    "        model = sm.OLS(y, sm.add_constant(pd.DataFrame(X[included]))).fit()\n",
    "        # use all coefs except intercept\n",
    "        pvalues = model.pvalues.iloc[1:]\n",
    "        worst_pval = pvalues.max() # null if pvalues is empty\n",
    "        if worst_pval > threshold_out:\n",
    "            changed=True\n",
    "            worst_feature = pvalues.argmax()\n",
    "            included.remove(worst_feature)\n",
    "            if verbose:\n",
    "                print('Drop {:30} with p-value {:.6}'.format(worst_feature, worst_pval))\n",
    "        if not changed:\n",
    "            break\n",
    "    return included"
   ]
  },
  {
   "cell_type": "code",
   "execution_count": null,
   "metadata": {},
   "outputs": [],
   "source": []
  },
  {
   "cell_type": "code",
   "execution_count": null,
   "metadata": {},
   "outputs": [],
   "source": []
  },
  {
   "cell_type": "markdown",
   "metadata": {},
   "source": [
    "### Build the final model again in Statsmodels"
   ]
  },
  {
   "cell_type": "code",
   "execution_count": 7,
   "metadata": {},
   "outputs": [
    {
     "data": {
      "text/html": [
       "<table class=\"simpletable\">\n",
       "<caption>OLS Regression Results</caption>\n",
       "<tr>\n",
       "  <th>Dep. Variable:</th>            <td>y</td>        <th>  R-squared:         </th> <td>   0.776</td> \n",
       "</tr>\n",
       "<tr>\n",
       "  <th>Model:</th>                   <td>OLS</td>       <th>  Adj. R-squared:    </th> <td>   0.773</td> \n",
       "</tr>\n",
       "<tr>\n",
       "  <th>Method:</th>             <td>Least Squares</td>  <th>  F-statistic:       </th> <td>   215.7</td> \n",
       "</tr>\n",
       "<tr>\n",
       "  <th>Date:</th>             <td>Thu, 11 Apr 2019</td> <th>  Prob (F-statistic):</th> <td>2.69e-156</td>\n",
       "</tr>\n",
       "<tr>\n",
       "  <th>Time:</th>                 <td>22:44:06</td>     <th>  Log-Likelihood:    </th> <td> -1461.3</td> \n",
       "</tr>\n",
       "<tr>\n",
       "  <th>No. Observations:</th>      <td>   506</td>      <th>  AIC:               </th> <td>   2941.</td> \n",
       "</tr>\n",
       "<tr>\n",
       "  <th>Df Residuals:</th>          <td>   497</td>      <th>  BIC:               </th> <td>   2979.</td> \n",
       "</tr>\n",
       "<tr>\n",
       "  <th>Df Model:</th>              <td>     8</td>      <th>                     </th>     <td> </td>    \n",
       "</tr>\n",
       "<tr>\n",
       "  <th>Covariance Type:</th>      <td>nonrobust</td>    <th>                     </th>     <td> </td>    \n",
       "</tr>\n",
       "</table>\n",
       "<table class=\"simpletable\">\n",
       "<tr>\n",
       "        <td></td>          <th>coef</th>     <th>std err</th>      <th>t</th>      <th>P>|t|</th>  <th>[0.025</th>    <th>0.975]</th>  \n",
       "</tr>\n",
       "<tr>\n",
       "  <th>const</th>        <td>    4.8980</td> <td>    2.813</td> <td>    1.742</td> <td> 0.082</td> <td>   -0.628</td> <td>   10.424</td>\n",
       "</tr>\n",
       "<tr>\n",
       "  <th>LSTAT</th>        <td>   -5.5932</td> <td>    0.319</td> <td>  -17.538</td> <td> 0.000</td> <td>   -6.220</td> <td>   -4.967</td>\n",
       "</tr>\n",
       "<tr>\n",
       "  <th>RM</th>           <td>    2.8294</td> <td>    0.386</td> <td>    7.333</td> <td> 0.000</td> <td>    2.071</td> <td>    3.587</td>\n",
       "</tr>\n",
       "<tr>\n",
       "  <th>PTRATIO</th>      <td>   -1.3265</td> <td>    0.226</td> <td>   -5.878</td> <td> 0.000</td> <td>   -1.770</td> <td>   -0.883</td>\n",
       "</tr>\n",
       "<tr>\n",
       "  <th>DIS</th>          <td>   -9.1984</td> <td>    1.333</td> <td>   -6.898</td> <td> 0.000</td> <td>  -11.818</td> <td>   -6.579</td>\n",
       "</tr>\n",
       "<tr>\n",
       "  <th>B</th>            <td>    3.9052</td> <td>    0.931</td> <td>    4.195</td> <td> 0.000</td> <td>    2.076</td> <td>    5.734</td>\n",
       "</tr>\n",
       "<tr>\n",
       "  <th>TAX_(0, 270]</th> <td>    1.4418</td> <td>    0.552</td> <td>    2.614</td> <td> 0.009</td> <td>    0.358</td> <td>    2.526</td>\n",
       "</tr>\n",
       "<tr>\n",
       "  <th>CHAS</th>         <td>    2.7988</td> <td>    0.791</td> <td>    3.539</td> <td> 0.000</td> <td>    1.245</td> <td>    4.353</td>\n",
       "</tr>\n",
       "<tr>\n",
       "  <th>INDUS</th>        <td>   -0.9574</td> <td>    0.346</td> <td>   -2.766</td> <td> 0.006</td> <td>   -1.637</td> <td>   -0.277</td>\n",
       "</tr>\n",
       "</table>\n",
       "<table class=\"simpletable\">\n",
       "<tr>\n",
       "  <th>Omnibus:</th>       <td>114.307</td> <th>  Durbin-Watson:     </th> <td>   1.088</td> \n",
       "</tr>\n",
       "<tr>\n",
       "  <th>Prob(Omnibus):</th> <td> 0.000</td>  <th>  Jarque-Bera (JB):  </th> <td> 482.579</td> \n",
       "</tr>\n",
       "<tr>\n",
       "  <th>Skew:</th>          <td> 0.945</td>  <th>  Prob(JB):          </th> <td>1.62e-105</td>\n",
       "</tr>\n",
       "<tr>\n",
       "  <th>Kurtosis:</th>      <td> 7.395</td>  <th>  Cond. No.          </th> <td>    96.8</td> \n",
       "</tr>\n",
       "</table><br/><br/>Warnings:<br/>[1] Standard Errors assume that the covariance matrix of the errors is correctly specified."
      ],
      "text/plain": [
       "<class 'statsmodels.iolib.summary.Summary'>\n",
       "\"\"\"\n",
       "                            OLS Regression Results                            \n",
       "==============================================================================\n",
       "Dep. Variable:                      y   R-squared:                       0.776\n",
       "Model:                            OLS   Adj. R-squared:                  0.773\n",
       "Method:                 Least Squares   F-statistic:                     215.7\n",
       "Date:                Thu, 11 Apr 2019   Prob (F-statistic):          2.69e-156\n",
       "Time:                        22:44:06   Log-Likelihood:                -1461.3\n",
       "No. Observations:                 506   AIC:                             2941.\n",
       "Df Residuals:                     497   BIC:                             2979.\n",
       "Df Model:                           8                                         \n",
       "Covariance Type:            nonrobust                                         \n",
       "================================================================================\n",
       "                   coef    std err          t      P>|t|      [0.025      0.975]\n",
       "--------------------------------------------------------------------------------\n",
       "const            4.8980      2.813      1.742      0.082      -0.628      10.424\n",
       "LSTAT           -5.5932      0.319    -17.538      0.000      -6.220      -4.967\n",
       "RM               2.8294      0.386      7.333      0.000       2.071       3.587\n",
       "PTRATIO         -1.3265      0.226     -5.878      0.000      -1.770      -0.883\n",
       "DIS             -9.1984      1.333     -6.898      0.000     -11.818      -6.579\n",
       "B                3.9052      0.931      4.195      0.000       2.076       5.734\n",
       "TAX_(0, 270]     1.4418      0.552      2.614      0.009       0.358       2.526\n",
       "CHAS             2.7988      0.791      3.539      0.000       1.245       4.353\n",
       "INDUS           -0.9574      0.346     -2.766      0.006      -1.637      -0.277\n",
       "==============================================================================\n",
       "Omnibus:                      114.307   Durbin-Watson:                   1.088\n",
       "Prob(Omnibus):                  0.000   Jarque-Bera (JB):              482.579\n",
       "Skew:                           0.945   Prob(JB):                    1.62e-105\n",
       "Kurtosis:                       7.395   Cond. No.                         96.8\n",
       "==============================================================================\n",
       "\n",
       "Warnings:\n",
       "[1] Standard Errors assume that the covariance matrix of the errors is correctly specified.\n",
       "\"\"\""
      ]
     },
     "execution_count": 7,
     "metadata": {},
     "output_type": "execute_result"
    }
   ],
   "source": [
    "import statsmodels.api as sm\n",
    "X = boston_features\n",
    "y = boston.target\n",
    "X_fin = X[[\"LSTAT\", \"RM\", \"PTRATIO\", \"DIS\", \"B\", \"TAX_(0, 270]\", \"CHAS\", \"INDUS\"]]\n",
    "X_int = sm.add_constant(X_fin)\n",
    "model = sm.OLS(y,X_int).fit()\n",
    "model.summary()\n"
   ]
  },
  {
   "cell_type": "markdown",
   "metadata": {},
   "source": [
    "Where our stepwise procedure mentions that \"CHAS\" was added with a p-value of 0.00151282, but our statsmodels output returns a p-value of 0.000. What is the intuition behind this?"
   ]
  },
  {
   "cell_type": "markdown",
   "metadata": {},
   "source": [
    "## Use Feature ranking with recursive feature elimination"
   ]
  },
  {
   "cell_type": "markdown",
   "metadata": {},
   "source": [
    "Use feature ranking to select the 5 most important features"
   ]
  },
  {
   "cell_type": "code",
   "execution_count": 10,
   "metadata": {},
   "outputs": [
    {
     "name": "stdout",
     "output_type": "stream",
     "text": [
      "RFE(estimator=LinearRegression(copy_X=True, fit_intercept=True, n_jobs=None,\n",
      "         normalize=False),\n",
      "  n_features_to_select=5, step=1, verbose=0)\n"
     ]
    }
   ],
   "source": [
    "from sklearn.feature_selection import RFE\n",
    "from sklearn.linear_model import LinearRegression\n",
    "\n",
    "lr = LinearRegression()\n",
    "selector = RFE(lr,n_features_to_select = 5)\n",
    "selector = selector.fit(X,y)\n"
   ]
  },
  {
   "cell_type": "code",
   "execution_count": 11,
   "metadata": {},
   "outputs": [
    {
     "data": {
      "text/plain": [
       "array([False, False,  True,  True, False,  True, False,  True,  True,\n",
       "       False, False, False, False, False])"
      ]
     },
     "execution_count": 11,
     "metadata": {},
     "output_type": "execute_result"
    }
   ],
   "source": [
    "selector.support_"
   ]
  },
  {
   "cell_type": "markdown",
   "metadata": {},
   "source": [
    "Fit the linear regression model again using the 5 columns selected"
   ]
  },
  {
   "cell_type": "code",
   "execution_count": 14,
   "metadata": {},
   "outputs": [
    {
     "data": {
      "text/plain": [
       "LinearRegression(copy_X=True, fit_intercept=True, n_jobs=None,\n",
       "         normalize=False)"
      ]
     },
     "execution_count": 14,
     "metadata": {},
     "output_type": "execute_result"
    }
   ],
   "source": [
    "selected_columns = X.columns[selector.support_]\n",
    "lr.fit(X[selected_columns],y)"
   ]
  },
  {
   "cell_type": "markdown",
   "metadata": {},
   "source": [
    "Now, predict $\\hat y$ using your model. you can use `.predict()` in scikit-learn"
   ]
  },
  {
   "cell_type": "code",
   "execution_count": 16,
   "metadata": {},
   "outputs": [
    {
     "data": {
      "text/plain": [
       "array([31.16165902, 23.76929453, 34.8764376 , 36.98692436, 31.32930715,\n",
       "       29.06938762, 18.83320099, 14.70915944,  8.01751688, 14.90750061,\n",
       "       14.49961186, 17.84334784, 15.96671008, 23.35014491, 21.5475942 ,\n",
       "       22.80420786, 25.67823103, 17.66801955, 17.36837517, 19.86812537,\n",
       "       12.67589909, 18.42874828, 15.95977353, 14.09380242, 16.3420057 ,\n",
       "       13.99038842, 16.58165948, 15.0909717 , 20.71269856, 22.06463506,\n",
       "       11.91943166, 19.11352766,  9.2779531 , 14.33996426, 13.34927881,\n",
       "       22.57757018, 20.30738333, 22.88337432, 21.8018023 , 31.92538034,\n",
       "       41.52527107, 31.06370984, 27.07153202, 24.77046631, 21.62254369,\n",
       "       20.00275986, 16.96128095, 14.4887785 ,  7.13719738, 14.42912675,\n",
       "       17.2790188 , 21.48105026, 28.91702238, 22.28080957, 15.84257515,\n",
       "       31.73722975, 26.72444484, 32.38609452, 24.47989229, 21.05648509,\n",
       "       16.58337781, 16.34295586, 26.03847483, 23.20882414, 25.68084118,\n",
       "       29.5199626 , 19.61369356, 22.40808622, 16.44091927, 21.58879946,\n",
       "       26.63121477, 20.96993535, 27.55433937, 24.76390537, 26.77946793,\n",
       "       23.64749623, 20.76349313, 22.01106198, 19.8438734 , 22.19717234,\n",
       "       30.2844787 , 26.65887163, 26.33164552, 24.6365546 , 23.23301352,\n",
       "       28.24826213, 19.12576907, 24.32850101, 32.10672912, 31.97818138,\n",
       "       25.39705173, 26.11938057, 25.84269183, 27.90838823, 22.52538516,\n",
       "       28.30059511, 21.55106014, 38.4819158 , 39.30393543, 32.2226848 ,\n",
       "       26.0929423 , 28.35160794, 19.98982205, 20.42376071, 21.72121536,\n",
       "       18.02104751, 16.55455204, 20.50030464, 22.84356682, 19.36202497,\n",
       "       20.89459242, 25.37576518, 18.10369451, 17.97097542, 23.89199212,\n",
       "       17.73498044, 21.67407291, 22.7636978 , 17.71362303, 18.81742072,\n",
       "       19.25780492, 19.73146433, 17.35369613, 13.46616205, 17.40149903,\n",
       "       19.63980912, 12.05031727, 17.46411241, 21.17171641, 16.371211  ,\n",
       "       22.89344411, 22.55375075, 23.5296126 , 18.37067806, 15.341256  ,\n",
       "       19.38158562, 18.07062758, 21.71718251, 15.97650024, 18.54408536,\n",
       "       15.81302621,  8.57706876, 15.66409923, 12.92599064, 10.04244695,\n",
       "       12.02847158, 15.41513393,  9.74849021, 10.54290749, 14.79613397,\n",
       "       21.05331449, 18.88894128, 21.41602014, 17.14510251, 22.4608601 ,\n",
       "       19.88101486, 13.19402919, 35.0420452 , 28.58793469, 28.77348461,\n",
       "       33.5427297 , 47.07558868, 50.08276226, 46.17484179, 21.27241216,\n",
       "       22.24800422, 40.50651203, 18.9434751 , 22.61075603, 22.87164458,\n",
       "       17.8958007 , 20.50564361, 17.70787384, 25.59596446, 22.92787057,\n",
       "       31.02448185, 22.22479009, 28.40083253, 29.58741951, 33.45095255,\n",
       "       31.99805957, 24.2666834 , 34.61346518, 30.75498196, 17.87490032,\n",
       "       20.09540457, 37.28165815, 28.99102504, 31.54337225, 32.12870148,\n",
       "       30.70481578, 30.99016552, 37.62332953, 30.62747755, 31.19933299,\n",
       "       40.08691761, 34.07547034, 25.17870951, 28.9347293 , 31.71698662,\n",
       "       32.3734075 , 24.35386493, 38.42037838, 37.67359888, 41.18412161,\n",
       "       20.78060271, 21.88280477, 14.76026606, 20.81294894, 14.03867953,\n",
       "       19.13650972, 13.9859968 , 19.52490218, 23.84954058,  8.41900315,\n",
       "       23.17846924, 22.05043467, 24.90572456, 19.57888955, 26.13847983,\n",
       "       29.36365933, 18.26571797, 28.49592139, 27.52534865, 39.71752951,\n",
       "       40.0943624 , 41.5889475 , 31.01071803, 37.77822159, 34.34768271,\n",
       "       20.34999012, 33.54434912, 44.56825799, 39.4254508 , 29.49733674,\n",
       "       21.41914612, 27.38044028, 34.27022286, 26.93699705, 25.88284535,\n",
       "       22.38125573, 18.77014894, 20.16871526, 28.34170923, 16.07055588,\n",
       "       12.24643414, 21.2513287 , 20.42328896, 21.86535198, 26.9468931 ,\n",
       "       27.44369848, 32.22409965, 33.7743568 , 38.34696259, 24.36999452,\n",
       "       20.03632037, 37.74902468, 40.38012207, 31.08096367, 30.5933566 ,\n",
       "       28.27933401, 32.1797757 , 37.13639506, 27.09413255, 30.24051941,\n",
       "       21.90284558, 22.98794473, 34.20746288, 39.87804476, 21.3978359 ,\n",
       "       18.37922815, 26.87191518, 26.55187051, 34.7775543 , 38.31825254,\n",
       "       37.35122311, 33.92195982, 36.31291953, 26.98303824, 32.24452212,\n",
       "       37.87291111, 32.61760806, 42.11363651, 42.44242283, 26.55069973,\n",
       "       23.87573499, 17.17576169, 24.53859919, 24.25266772, 22.48146968,\n",
       "       35.71542497, 36.00629022, 31.33248197, 23.13337182, 20.72420494,\n",
       "       28.0725372 , 25.86987478, 15.20555312, 28.25607299, 31.18104672,\n",
       "       28.24707546, 23.65598077, 24.13917641, 31.92170953, 30.00086745,\n",
       "       25.71557376, 32.10902865, 28.49251403, 32.91167529, 22.61773325,\n",
       "       16.75248398, 28.91208583, 21.36039335, 25.87894476, 24.98927368,\n",
       "       19.54914206, 15.30752933, 16.35878828, 23.25539875, 19.85125748,\n",
       "       26.52033527, 26.83712164, 24.38955501, 18.78435465, 28.06698464,\n",
       "       29.64337989, 27.28138192, 18.86818638, 20.6587547 , 25.36175718,\n",
       "       22.07715222, 17.27069911, 22.8283453 , 27.55071352, 25.72889205,\n",
       "       23.30692505, 21.00223224, 20.09281805, 23.34778067, 21.69631256,\n",
       "       22.13054274, 30.9052643 , 24.02633784, 26.83119421, 31.61912595,\n",
       "       19.43773399, 16.86535894, 26.31933137, 27.39796835, 28.46040036,\n",
       "       26.84188762, 27.18457358, 21.40421425, 29.58400111, 20.22326838,\n",
       "       24.91795123, 21.29416859, 24.56405545, 24.9692114 , 21.12688409,\n",
       "       26.97590281, 20.20085706, 21.18966642, 21.81627148, 42.66847552,\n",
       "       19.16283381, 16.25652033, 11.23159491, 32.91621857, 40.28426573,\n",
       "       44.36794984, 26.27920591, 28.65877557,  8.64483718,  5.17736637,\n",
       "       26.50122757, 18.0580462 , 19.86436611, 17.24760122, 17.54638742,\n",
       "       22.53680616, 18.77627754, 14.02256228, 13.6365335 ,  6.24792183,\n",
       "       10.64055401,  9.30595492,  9.12314247,  8.75829066, 14.56339343,\n",
       "       17.4022879 , 17.08970139, 11.11012849, 20.53639725, 18.71856016,\n",
       "       20.27800706, 18.90253847, 16.37736824, 11.19935873, 12.07476207,\n",
       "       14.24536584, 18.36597991, 18.22480799, 15.01732078, 11.61971798,\n",
       "       14.95129763,  9.83414093, 21.0147197 , 12.39776946, 18.04155361,\n",
       "       19.29490008, 14.83115314,  2.71353953, 12.19777563,  2.09441548,\n",
       "       10.19396949, 12.5862556 ,  8.68503105, 12.04649428, 14.39602628,\n",
       "       20.36931542, 18.50720784, 17.95153628, 10.79853731, 12.08721809,\n",
       "        9.82522685, 14.29129057, 16.47813759, 13.15739072, 12.16064068,\n",
       "       15.44214799, 15.89171306, 19.67087661, 16.48078299, 16.51368418,\n",
       "       13.73725671, 15.00310155,  9.87323182,  7.34465629, 14.27096547,\n",
       "       15.1462937 , 18.11979315, 19.36728257, 18.883041  , 12.69288936,\n",
       "       12.24068255, 18.05634122, 19.23266541, 18.00593511, 17.15451535,\n",
       "       15.62008108, 19.25308309, 18.63077425, 22.51718419, 14.69189623,\n",
       "       14.90904094, 11.89374615, 12.66953877, 17.51927599, 19.32361191,\n",
       "       18.765025  , 20.46673024, 20.63319873, 24.40265469, 20.62863258,\n",
       "       17.56036239, 12.7228374 , 14.60024337, 16.08792383, 17.91001994,\n",
       "       18.24465013, 20.83409892, 20.57270009, 24.76095345, 14.67585782,\n",
       "       13.92662321, 18.66123891, 11.3170395 , 17.97569876, 21.78361306,\n",
       "       22.5051671 , 27.69395984, 29.7557336 , 20.62543931, 18.43227891,\n",
       "       22.37979327, 18.45332472, 20.80763544, 16.11329454, 12.52989456,\n",
       "        8.7963685 , 17.79641771, 20.69168357, 20.50875564, 19.97424638,\n",
       "       15.91177944, 13.08296589, 18.59795129, 20.78875778, 17.61546127,\n",
       "       19.63678336, 25.6430062 , 24.95294736, 33.00415532, 30.62246451,\n",
       "       25.86809189])"
      ]
     },
     "execution_count": 16,
     "metadata": {},
     "output_type": "execute_result"
    }
   ],
   "source": [
    "y_hat = lr.predict(X[selected_columns])\n",
    "y_hat"
   ]
  },
  {
   "cell_type": "markdown",
   "metadata": {},
   "source": [
    "Now, using the formulas of R-squared and adjusted-R-squared below, and your Python/numpy knowledge, compute them and contrast them with the R-squared and adjusted-R-squared in your statsmodels output using stepwise selection. Which of the two models would you prefer?"
   ]
  },
  {
   "cell_type": "markdown",
   "metadata": {},
   "source": [
    "$SS_{residual} = \\sum (y - \\hat{y})^2 $\n",
    "\n",
    "$SS_{total} = \\sum (y - \\bar{y})^2 $\n",
    "\n",
    "$R^2 = 1- \\dfrac{SS_{residual}}{SS_{total}}$\n",
    "\n",
    "$R^2_{adj}= 1-(1-R^2)\\dfrac{n-1}{n-p-1}$"
   ]
  },
  {
   "cell_type": "code",
   "execution_count": null,
   "metadata": {},
   "outputs": [],
   "source": []
  },
  {
   "cell_type": "code",
   "execution_count": null,
   "metadata": {},
   "outputs": [],
   "source": []
  },
  {
   "cell_type": "code",
   "execution_count": null,
   "metadata": {},
   "outputs": [],
   "source": []
  },
  {
   "cell_type": "markdown",
   "metadata": {},
   "source": [
    "## Level up - Optional"
   ]
  },
  {
   "cell_type": "markdown",
   "metadata": {},
   "source": [
    "- Perform variable selection using forward selection, using this resource: https://planspace.org/20150423-forward_selection_with_statsmodels/. Note that this time features are added based on the adjusted-R-squared!\n",
    "- Tweak the code in the `stepwise_selection()`-function written above to just perform forward selection based on the p-value."
   ]
  },
  {
   "cell_type": "markdown",
   "metadata": {},
   "source": [
    "## Summary\n",
    "Great! You now performed your own feature selection methods!"
   ]
  }
 ],
 "metadata": {
  "kernelspec": {
   "display_name": "Python 3",
   "language": "python",
   "name": "python3"
  },
  "language_info": {
   "codemirror_mode": {
    "name": "ipython",
    "version": 3
   },
   "file_extension": ".py",
   "mimetype": "text/x-python",
   "name": "python",
   "nbconvert_exporter": "python",
   "pygments_lexer": "ipython3",
   "version": "3.6.6"
  }
 },
 "nbformat": 4,
 "nbformat_minor": 2
}
